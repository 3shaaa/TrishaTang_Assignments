{
 "cells": [
  {
   "cell_type": "markdown",
   "id": "22705cb1",
   "metadata": {},
   "source": [
    "# Problem 1\n",
    "\n",
    "Caesar Cipher (6 points)\n",
    "A cipher is a way of disguising a message by encoding it.\n",
    "\n",
    "One of the simplest ciphers is a \"shift cipher\" known as the Caesar cipher. The way it works is very simple.\n",
    "\n",
    "Start with a message, such as \"ATTACK AT DAWN\".\n",
    "Choose a number, such as 3.\n",
    "Shift all letters in the message to the right by the chosen number. In this case, shifting all letters in \"ATTACK AT DAWN\" by 3 results in the message \"DWWDFN DW GDZQ\".\n",
    "Write a function called problem_1 that takes two positional arguments message and shift. It should apply the Caesar cipher to a message and return the result.\n",
    "\n",
    "For full credit:\n",
    "\n",
    "The function must ignore spaces.\n",
    "The function must be able to \"wrap around\" if it reaches the end of the alphabet. (e.g., shifting Z by 1 should result in A, shifting Z by 2 should result in B, etc.)\n",
    "For your convenience:\n",
    "\n",
    "Assume that all letters will be uppercase.\n",
    "Be aware of the chr() function. chr() takes an Unicode code number and returns the character associated with that number (e.g., chr(65) => \"A\").\n",
    "Be aware of the ord() function. ord() takes a Unicode character and returns the Unicode code associated with that character (e.g., ord(\"A\") => 65).\n",
    "Be aware that the Unicode codes of the uppercase English alphabet are Unicode codes 65 to 90, where 65 = A, 66 = B, ..., 90 = Z.\n",
    "The shift will always be a positive integer.\n"
   ]
  },
  {
   "cell_type": "code",
   "execution_count": 54,
   "id": "72da96ed",
   "metadata": {},
   "outputs": [],
   "source": [
    "def problem_1(word):\n",
    "    choose_number= int(input(\"Please Choose a Number:\"))\n",
    "    changed_word=\"\"\n",
    "    for i in word:\n",
    "        if  (ord(i)+choose_number) > 65 and (ord(i)+choose_number) <= 90:\n",
    "            changed_letter= (chr(ord(i)+choose_number))\n",
    "            changed_word += changed_letter\n",
    "        elif (ord(i)+choose_number) >90:\n",
    "            changed_letter= (ord(i)+choose_number)\n",
    "            changed_letter= (changed_letter - 90)\n",
    "            changed_letter= chr(64+changed_letter)\n",
    "            changed_word += changed_letter\n",
    "        elif (ord(i)+choose_number) < 65:\n",
    "            changed_word += i\n",
    "    return (changed_word)\n",
    "        "
   ]
  },
  {
   "cell_type": "code",
   "execution_count": 38,
   "id": "0941aeb0",
   "metadata": {},
   "outputs": [
    {
     "ename": "KeyboardInterrupt",
     "evalue": "Interrupted by user",
     "output_type": "error",
     "traceback": [
      "\u001b[0;31m---------------------------------------------------------------------------\u001b[0m",
      "\u001b[0;31mKeyboardInterrupt\u001b[0m                         Traceback (most recent call last)",
      "\u001b[0;32m<ipython-input-38-8abc6075cb7e>\u001b[0m in \u001b[0;36m<module>\u001b[0;34m\u001b[0m\n\u001b[0;32m----> 1\u001b[0;31m \u001b[0mproblem_1\u001b[0m\u001b[0;34m(\u001b[0m\u001b[0;34m\"ATTACK AT DAWN\"\u001b[0m\u001b[0;34m)\u001b[0m\u001b[0;34m\u001b[0m\u001b[0;34m\u001b[0m\u001b[0m\n\u001b[0m",
      "\u001b[0;32m<ipython-input-35-27c86ffe98e9>\u001b[0m in \u001b[0;36mproblem_1\u001b[0;34m(word)\u001b[0m\n\u001b[1;32m      1\u001b[0m \u001b[0;32mdef\u001b[0m \u001b[0mproblem_1\u001b[0m\u001b[0;34m(\u001b[0m\u001b[0mword\u001b[0m\u001b[0;34m)\u001b[0m\u001b[0;34m:\u001b[0m\u001b[0;34m\u001b[0m\u001b[0;34m\u001b[0m\u001b[0m\n\u001b[0;32m----> 2\u001b[0;31m     \u001b[0mchoose_number\u001b[0m\u001b[0;34m=\u001b[0m \u001b[0mint\u001b[0m\u001b[0;34m(\u001b[0m\u001b[0minput\u001b[0m\u001b[0;34m(\u001b[0m\u001b[0;34m\"Please Choose a Number:\"\u001b[0m\u001b[0;34m)\u001b[0m\u001b[0;34m)\u001b[0m\u001b[0;34m\u001b[0m\u001b[0;34m\u001b[0m\u001b[0m\n\u001b[0m\u001b[1;32m      3\u001b[0m     \u001b[0mchanged_word\u001b[0m\u001b[0;34m=\u001b[0m\u001b[0;34m\"\"\u001b[0m\u001b[0;34m\u001b[0m\u001b[0;34m\u001b[0m\u001b[0m\n\u001b[1;32m      4\u001b[0m     \u001b[0;32mfor\u001b[0m \u001b[0mi\u001b[0m \u001b[0;32min\u001b[0m \u001b[0mword\u001b[0m\u001b[0;34m:\u001b[0m\u001b[0;34m\u001b[0m\u001b[0;34m\u001b[0m\u001b[0m\n\u001b[1;32m      5\u001b[0m         \u001b[0;32mif\u001b[0m  \u001b[0;34m(\u001b[0m\u001b[0mord\u001b[0m\u001b[0;34m(\u001b[0m\u001b[0mi\u001b[0m\u001b[0;34m)\u001b[0m\u001b[0;34m+\u001b[0m\u001b[0mchoose_number\u001b[0m\u001b[0;34m)\u001b[0m \u001b[0;34m>\u001b[0m \u001b[0;36m65\u001b[0m \u001b[0;32mand\u001b[0m \u001b[0;34m(\u001b[0m\u001b[0mord\u001b[0m\u001b[0;34m(\u001b[0m\u001b[0mi\u001b[0m\u001b[0;34m)\u001b[0m\u001b[0;34m+\u001b[0m\u001b[0mchoose_number\u001b[0m\u001b[0;34m)\u001b[0m \u001b[0;34m<=\u001b[0m \u001b[0;36m90\u001b[0m\u001b[0;34m:\u001b[0m\u001b[0;34m\u001b[0m\u001b[0;34m\u001b[0m\u001b[0m\n",
      "\u001b[0;32m~/opt/anaconda3/lib/python3.8/site-packages/ipykernel/kernelbase.py\u001b[0m in \u001b[0;36mraw_input\u001b[0;34m(self, prompt)\u001b[0m\n\u001b[1;32m    858\u001b[0m                 \u001b[0;34m\"raw_input was called, but this frontend does not support input requests.\"\u001b[0m\u001b[0;34m\u001b[0m\u001b[0;34m\u001b[0m\u001b[0m\n\u001b[1;32m    859\u001b[0m             )\n\u001b[0;32m--> 860\u001b[0;31m         return self._input_request(str(prompt),\n\u001b[0m\u001b[1;32m    861\u001b[0m             \u001b[0mself\u001b[0m\u001b[0;34m.\u001b[0m\u001b[0m_parent_ident\u001b[0m\u001b[0;34m,\u001b[0m\u001b[0;34m\u001b[0m\u001b[0;34m\u001b[0m\u001b[0m\n\u001b[1;32m    862\u001b[0m             \u001b[0mself\u001b[0m\u001b[0;34m.\u001b[0m\u001b[0m_parent_header\u001b[0m\u001b[0;34m,\u001b[0m\u001b[0;34m\u001b[0m\u001b[0;34m\u001b[0m\u001b[0m\n",
      "\u001b[0;32m~/opt/anaconda3/lib/python3.8/site-packages/ipykernel/kernelbase.py\u001b[0m in \u001b[0;36m_input_request\u001b[0;34m(self, prompt, ident, parent, password)\u001b[0m\n\u001b[1;32m    902\u001b[0m             \u001b[0;32mexcept\u001b[0m \u001b[0mKeyboardInterrupt\u001b[0m\u001b[0;34m:\u001b[0m\u001b[0;34m\u001b[0m\u001b[0;34m\u001b[0m\u001b[0m\n\u001b[1;32m    903\u001b[0m                 \u001b[0;31m# re-raise KeyboardInterrupt, to truncate traceback\u001b[0m\u001b[0;34m\u001b[0m\u001b[0;34m\u001b[0m\u001b[0;34m\u001b[0m\u001b[0m\n\u001b[0;32m--> 904\u001b[0;31m                 \u001b[0;32mraise\u001b[0m \u001b[0mKeyboardInterrupt\u001b[0m\u001b[0;34m(\u001b[0m\u001b[0;34m\"Interrupted by user\"\u001b[0m\u001b[0;34m)\u001b[0m \u001b[0;32mfrom\u001b[0m \u001b[0;32mNone\u001b[0m\u001b[0;34m\u001b[0m\u001b[0;34m\u001b[0m\u001b[0m\n\u001b[0m\u001b[1;32m    905\u001b[0m             \u001b[0;32mexcept\u001b[0m \u001b[0mException\u001b[0m \u001b[0;32mas\u001b[0m \u001b[0me\u001b[0m\u001b[0;34m:\u001b[0m\u001b[0;34m\u001b[0m\u001b[0;34m\u001b[0m\u001b[0m\n\u001b[1;32m    906\u001b[0m                 \u001b[0mself\u001b[0m\u001b[0;34m.\u001b[0m\u001b[0mlog\u001b[0m\u001b[0;34m.\u001b[0m\u001b[0mwarning\u001b[0m\u001b[0;34m(\u001b[0m\u001b[0;34m\"Invalid Message:\"\u001b[0m\u001b[0;34m,\u001b[0m \u001b[0mexc_info\u001b[0m\u001b[0;34m=\u001b[0m\u001b[0;32mTrue\u001b[0m\u001b[0;34m)\u001b[0m\u001b[0;34m\u001b[0m\u001b[0;34m\u001b[0m\u001b[0m\n",
      "\u001b[0;31mKeyboardInterrupt\u001b[0m: Interrupted by user"
     ]
    }
   ],
   "source": [
    "problem_1(\"ATTACK AT DAWN\")"
   ]
  },
  {
   "cell_type": "markdown",
   "id": "10d4eaea",
   "metadata": {},
   "source": [
    "# Problem 2\n",
    "\n",
    "Scytale Cipher (8 points)\n",
    "Another ancient cipher (of questionable effectiveness) is the scytale-based cipher. A scytale is a cylinder around which you can wrap a long strip of parchment that contained a string of apparent gibberish. The parchment, when read using the scytale, would reveal a message due to every nth letter now appearing next to each other, revealing a proper message.\n",
    "\n",
    "Sources:\n",
    "\n",
    "https://en.wikipedia.org/wiki/Scytale\n",
    "Here is the algorithm you can use to implement a scytale-style cipher:\n",
    "\n",
    "Encoding\n",
    "\n",
    "Take a message to be encoded and a \"shift\" number. For this example, we will use \"INFORMATION_AGE\" as the message and 3 as the shift.\n",
    "Check if the length of the message is a multiple of the shift. If it is not, add additional underscores to the end of the message until it is. In this example, \"INFORMATION_AGE\" is already a multiple of 3, so we will leave it alone.\n",
    "This is the tricky part. Construct the encoded message. For each index i in the encoded message, use the character at the index (i // shift) + (len(message) // shift) * (i % shift) of the raw message. If this number doesn't make sense, you can play around with the cipher at https://dencode.com/en/cipher/scytale to try to understand it.\n",
    "Return the encoded message. In this case, the output should be \"IMNNA_FTAOIGROE\".\n",
    "Another expected output: the message \"INFORMATION_AGE\" and the shift 4 should return \"IRIANMOGFANEOT__\".\n",
    "\n",
    "Write a function called problem_2 that takes two positional arguments message and shift. It should apply this scytale-style cipher to a message and return the encoded message.\n",
    "\n",
    "For your convenience:\n",
    "\n",
    "A message will only ever contain capital letters and underscores. (Underscores will be used to represent spaces.)\n",
    "The shift will always be a positive integer, and it will never exceed the length of the message."
   ]
  },
  {
   "cell_type": "code",
   "execution_count": 43,
   "id": "09d02625",
   "metadata": {},
   "outputs": [],
   "source": [
    "def problem_2(message):\n",
    "    number= int(input(\"Shift Number: \"))\n",
    "    shifted_message=message\n",
    "    final_message=\"\"\n",
    "    \n",
    "    while (len(shifted_message))%number !=0:\n",
    "        message_2= shifted_message+chr(95)\n",
    "        shifted_message= message_2\n",
    "        \n",
    "    for i in range (len(shifted_message)):\n",
    "        position=(i // number) + (len(shifted_message) // number) * (i % number)\n",
    "        letter= shifted_message[position]\n",
    "        final_message += letter\n",
    "        \n",
    "    return(final_message)\n",
    "        "
   ]
  },
  {
   "cell_type": "code",
   "execution_count": 44,
   "id": "0490b10e",
   "metadata": {},
   "outputs": [
    {
     "name": "stdout",
     "output_type": "stream",
     "text": [
      "Shift Number: 4\n"
     ]
    },
    {
     "data": {
      "text/plain": [
       "'IRIANMOGFANEOT__'"
      ]
     },
     "execution_count": 44,
     "metadata": {},
     "output_type": "execute_result"
    }
   ],
   "source": [
    "problem_2(\"INFORMATION_AGE\")"
   ]
  },
  {
   "cell_type": "markdown",
   "id": "0c4d51f9",
   "metadata": {},
   "source": [
    "# Problem 3\n",
    "Vigenere Cipher (8 points)\n",
    "The Caesar cipher is very easy to crack. The Vigenere cipher is an extension to the Caesar cipher that makes it a little more difficult to crack. There are many variations of this cipher, but for the purposes of this exercise, this is how it works:\n",
    "\n",
    "Start with a message, such as \"MY MESSAGE\".\n",
    "Choose a keyphrase, such as \"KEY\".\n",
    "Repeat the keyphrase until it matches the length of the message. In this case, extend \"KEY\" to \"KEYKEYKEYK\". This should yield an implicit 1-1 mapping between letters in the message to letters in the key.\n",
    "Convert all letters in the key to their number values (in this particular case, A => 0, Z => 25, etc.). Shift the letters in the message to the right by the number value of the respective letter in the extended key. In this case, applying the cipher yields the encrypted message \"WC WIQCEEO\".\n",
    "Write a function called problem_3 that takes two positional arguments message and key. It should apply the Vigenere cipher to the message and return the encoded message.\n",
    "\n",
    "For full credit:\n",
    "\n",
    "Spaces in the message count as characters and thus count as additional message length for the purposes of key extension, but they are to be ignored when applying the cipher to the message.\n",
    "For your convenience:\n",
    "\n",
    "You are allowed to call your Caesar cipher function.\n",
    "Assume that all letters will be uppercase.\n",
    "Assume that the key will always be the same length or shorter than the message. The key will only ever have uppercase letters (i.e., no spaces).\n",
    "Assume that the message will only ever consist of uppercase letters and spaces."
   ]
  },
  {
   "cell_type": "code",
   "execution_count": 38,
   "id": "08cd5bb8",
   "metadata": {},
   "outputs": [],
   "source": [
    "def problem_3(message):\n",
    "    keyphrase = input(\"Select a keyphrase:\")\n",
    "    changed_message= \"\"\n",
    "    final_message = \"\"\n",
    "    x= 0\n",
    "\n",
    "    if len(message) != len(keyphrase):\n",
    "        changed_message = (len(message) // len(keyphrase)) * keyphrase\n",
    "        changed_message += keyphrase[0:(len(message)%len(keyphrase))]\n",
    "    \n",
    "    else:\n",
    "        changed_message= keyphrase\n",
    "    \n",
    "    for i in message:\n",
    "        \n",
    "        if ord(i) == 32:\n",
    "            i = i\n",
    "            final_message += i\n",
    "            \n",
    "        elif 65 <= ord(i) and ord(i) <= 90:\n",
    "            shifted_letter= (ord(i)-65 + (ord(changed_message[x])-65)) % 26\n",
    "            final_letter= chr(65+ shifted_letter)\n",
    "            final_message += final_letter\n",
    "        \n",
    "        x += 1\n",
    "    \n",
    "    return(final_message) \n"
   ]
  },
  {
   "cell_type": "code",
   "execution_count": 39,
   "id": "cc638455",
   "metadata": {},
   "outputs": [
    {
     "name": "stdout",
     "output_type": "stream",
     "text": [
      "Select a keyphrase:KEY\n"
     ]
    },
    {
     "data": {
      "text/plain": [
       "'WC WIQCEEO'"
      ]
     },
     "execution_count": 39,
     "metadata": {},
     "output_type": "execute_result"
    }
   ],
   "source": [
    "problem_3(\"MY MESSAGE\")"
   ]
  },
  {
   "cell_type": "markdown",
   "id": "91b1a2a3",
   "metadata": {},
   "source": [
    "# Problem 4\n",
    "Scytale De-cipher (8 points)\n",
    "There is no brief for this number.\n",
    "\n",
    "Write a function called problem_4 that takes two positional arguments message and shift. It should decipher a message that is encoded in the scytale-style cipher from Problem 2 and return the decoded message.\n",
    "\n",
    "For your convenience:\n",
    "\n",
    "Do not trim the added underscores at the end of the message."
   ]
  },
  {
   "cell_type": "code",
   "execution_count": 2,
   "id": "25e56a2e",
   "metadata": {},
   "outputs": [],
   "source": [
    "def problem_4(encoded_message):\n",
    "    number= int(input(\"Shift Number: \"))\n",
    "    decoded_message= \"\"\n",
    "    \n",
    "    for i in range (0, len(encoded_message)):\n",
    "        position= (i // (len(encoded_message)//number)) + ((i % (len(encoded_message)//number)) * number)\n",
    "        letter= encoded_message[position]\n",
    "        decoded_message += letter\n",
    "                \n",
    "    return (decoded_message)\n",
    "    "
   ]
  },
  {
   "cell_type": "code",
   "execution_count": 46,
   "id": "7b9df461",
   "metadata": {},
   "outputs": [
    {
     "name": "stdout",
     "output_type": "stream",
     "text": [
      "Shift Number: 3\n"
     ]
    },
    {
     "data": {
      "text/plain": [
       "'INFORMATION_AGE'"
      ]
     },
     "execution_count": 46,
     "metadata": {},
     "output_type": "execute_result"
    }
   ],
   "source": [
    "problem_4(\"IMNNA_FTAOIGROE\")"
   ]
  },
  {
   "cell_type": "code",
   "execution_count": 5,
   "id": "4f74e129",
   "metadata": {},
   "outputs": [
    {
     "name": "stdout",
     "output_type": "stream",
     "text": [
      " \n"
     ]
    }
   ],
   "source": []
  },
  {
   "cell_type": "code",
   "execution_count": null,
   "id": "e6a78e04",
   "metadata": {},
   "outputs": [],
   "source": []
  },
  {
   "cell_type": "code",
   "execution_count": null,
   "id": "e0f01513",
   "metadata": {},
   "outputs": [],
   "source": []
  }
 ],
 "metadata": {
  "kernelspec": {
   "display_name": "Python 3",
   "language": "python",
   "name": "python3"
  },
  "language_info": {
   "codemirror_mode": {
    "name": "ipython",
    "version": 3
   },
   "file_extension": ".py",
   "mimetype": "text/x-python",
   "name": "python",
   "nbconvert_exporter": "python",
   "pygments_lexer": "ipython3",
   "version": "3.8.8"
  }
 },
 "nbformat": 4,
 "nbformat_minor": 5
}
