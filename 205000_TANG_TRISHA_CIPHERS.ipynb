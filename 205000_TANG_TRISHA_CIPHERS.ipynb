{
 "cells": [
  {
   "cell_type": "markdown",
   "id": "22705cb1",
   "metadata": {},
   "source": [
    "# Problem 1\n",
    "\n",
    "Caesar Cipher (6 points)\n",
    "A cipher is a way of disguising a message by encoding it.\n",
    "\n",
    "One of the simplest ciphers is a \"shift cipher\" known as the Caesar cipher. The way it works is very simple.\n",
    "\n",
    "Start with a message, such as \"ATTACK AT DAWN\".\n",
    "Choose a number, such as 3.\n",
    "Shift all letters in the message to the right by the chosen number. In this case, shifting all letters in \"ATTACK AT DAWN\" by 3 results in the message \"DWWDFN DW GDZQ\".\n",
    "Write a function called problem_1 that takes two positional arguments message and shift. It should apply the Caesar cipher to a message and return the result.\n",
    "\n",
    "For full credit:\n",
    "\n",
    "The function must ignore spaces.\n",
    "The function must be able to \"wrap around\" if it reaches the end of the alphabet. (e.g., shifting Z by 1 should result in A, shifting Z by 2 should result in B, etc.)\n",
    "For your convenience:\n",
    "\n",
    "Assume that all letters will be uppercase.\n",
    "Be aware of the chr() function. chr() takes an Unicode code number and returns the character associated with that number (e.g., chr(65) => \"A\").\n",
    "Be aware of the ord() function. ord() takes a Unicode character and returns the Unicode code associated with that character (e.g., ord(\"A\") => 65).\n",
    "Be aware that the Unicode codes of the uppercase English alphabet are Unicode codes 65 to 90, where 65 = A, 66 = B, ..., 90 = Z.\n",
    "The shift will always be a positive integer.\n"
   ]
  },
  {
   "cell_type": "code",
   "execution_count": 81,
   "id": "72da96ed",
   "metadata": {},
   "outputs": [],
   "source": [
    "def problem_1(word,choose_number):\n",
    "    changed_word=\"\"\n",
    "    for i in word:\n",
    "        if ord(i) == 32:\n",
    "            changed_word += i\n",
    "        else:\n",
    "            changed_letter= (ord(i)-65)\n",
    "            changed_letter= (changed_letter+choose_number)%26\n",
    "            changed_letter= chr(65+changed_letter)\n",
    "            changed_word += changed_letter\n",
    "        \n",
    "    return (changed_word)\n",
    "        "
   ]
  },
  {
   "cell_type": "code",
   "execution_count": 84,
   "id": "0941aeb0",
   "metadata": {},
   "outputs": [
    {
     "data": {
      "text/plain": [
       "'DWWDFN DW GDZQ'"
      ]
     },
     "execution_count": 84,
     "metadata": {},
     "output_type": "execute_result"
    }
   ],
   "source": [
    "problem_1(\"ATTACK AT DAWN\",3)"
   ]
  },
  {
   "cell_type": "markdown",
   "id": "10d4eaea",
   "metadata": {},
   "source": [
    "# Problem 2\n",
    "\n",
    "Scytale Cipher (8 points)\n",
    "Another ancient cipher (of questionable effectiveness) is the scytale-based cipher. A scytale is a cylinder around which you can wrap a long strip of parchment that contained a string of apparent gibberish. The parchment, when read using the scytale, would reveal a message due to every nth letter now appearing next to each other, revealing a proper message.\n",
    "\n",
    "Sources:\n",
    "\n",
    "https://en.wikipedia.org/wiki/Scytale\n",
    "Here is the algorithm you can use to implement a scytale-style cipher:\n",
    "\n",
    "Encoding\n",
    "\n",
    "Take a message to be encoded and a \"shift\" number. For this example, we will use \"INFORMATION_AGE\" as the message and 3 as the shift.\n",
    "Check if the length of the message is a multiple of the shift. If it is not, add additional underscores to the end of the message until it is. In this example, \"INFORMATION_AGE\" is already a multiple of 3, so we will leave it alone.\n",
    "This is the tricky part. Construct the encoded message. For each index i in the encoded message, use the character at the index (i // shift) + (len(message) // shift) * (i % shift) of the raw message. If this number doesn't make sense, you can play around with the cipher at https://dencode.com/en/cipher/scytale to try to understand it.\n",
    "Return the encoded message. In this case, the output should be \"IMNNA_FTAOIGROE\".\n",
    "Another expected output: the message \"INFORMATION_AGE\" and the shift 4 should return \"IRIANMOGFANEOT__\".\n",
    "\n",
    "Write a function called problem_2 that takes two positional arguments message and shift. It should apply this scytale-style cipher to a message and return the encoded message.\n",
    "\n",
    "For your convenience:\n",
    "\n",
    "A message will only ever contain capital letters and underscores. (Underscores will be used to represent spaces.)\n",
    "The shift will always be a positive integer, and it will never exceed the length of the message."
   ]
  },
  {
   "cell_type": "code",
   "execution_count": 8,
   "id": "09d02625",
   "metadata": {},
   "outputs": [],
   "source": [
    "def problem_2(message, number):\n",
    "    shifted_message=message\n",
    "    final_message=\"\"\n",
    "    \n",
    "    while (len(shifted_message))%number !=0:\n",
    "        message_2= shifted_message+chr(95)\n",
    "        shifted_message= message_2\n",
    "        \n",
    "    for i in range (len(shifted_message)):\n",
    "        position=(i // number) + (len(shifted_message) // number) * (i % number)\n",
    "        letter= shifted_message[position]\n",
    "        final_message += letter\n",
    "        \n",
    "    return(final_message)\n",
    "        "
   ]
  },
  {
   "cell_type": "code",
   "execution_count": 9,
   "id": "0490b10e",
   "metadata": {},
   "outputs": [
    {
     "data": {
      "text/plain": [
       "'IMNNA_FTAOIGROE'"
      ]
     },
     "execution_count": 9,
     "metadata": {},
     "output_type": "execute_result"
    }
   ],
   "source": [
    "problem_2(\"INFORMATION_AGE\", 3)"
   ]
  },
  {
   "cell_type": "markdown",
   "id": "0c4d51f9",
   "metadata": {},
   "source": [
    "# Problem 3\n",
    "Vigenere Cipher (8 points)\n",
    "The Caesar cipher is very easy to crack. The Vigenere cipher is an extension to the Caesar cipher that makes it a little more difficult to crack. There are many variations of this cipher, but for the purposes of this exercise, this is how it works:\n",
    "\n",
    "Start with a message, such as \"MY MESSAGE\".\n",
    "Choose a keyphrase, such as \"KEY\".\n",
    "Repeat the keyphrase until it matches the length of the message. In this case, extend \"KEY\" to \"KEYKEYKEYK\". This should yield an implicit 1-1 mapping between letters in the message to letters in the key.\n",
    "Convert all letters in the key to their number values (in this particular case, A => 0, Z => 25, etc.). Shift the letters in the message to the right by the number value of the respective letter in the extended key. In this case, applying the cipher yields the encrypted message \"WC WIQCEEO\".\n",
    "Write a function called problem_3 that takes two positional arguments message and key. It should apply the Vigenere cipher to the message and return the encoded message.\n",
    "\n",
    "For full credit:\n",
    "\n",
    "Spaces in the message count as characters and thus count as additional message length for the purposes of key extension, but they are to be ignored when applying the cipher to the message.\n",
    "For your convenience:\n",
    "\n",
    "You are allowed to call your Caesar cipher function.\n",
    "Assume that all letters will be uppercase.\n",
    "Assume that the key will always be the same length or shorter than the message. The key will only ever have uppercase letters (i.e., no spaces).\n",
    "Assume that the message will only ever consist of uppercase letters and spaces."
   ]
  },
  {
   "cell_type": "code",
   "execution_count": 11,
   "id": "08cd5bb8",
   "metadata": {},
   "outputs": [],
   "source": [
    "def problem_3(message, keyphrase):\n",
    "    changed_message= \"\"\n",
    "    final_message = \"\"\n",
    "    x= 0\n",
    "\n",
    "    if len(message) != len(keyphrase):\n",
    "        changed_message = (len(message) // len(keyphrase)) * keyphrase\n",
    "        changed_message += keyphrase[0:(len(message)%len(keyphrase))]\n",
    "    \n",
    "    else:\n",
    "        changed_message= keyphrase\n",
    "    \n",
    "    for i in message:\n",
    "        \n",
    "        if ord(i) == 32:\n",
    "            i = i\n",
    "            final_message += i\n",
    "            \n",
    "        elif 65 <= ord(i) and ord(i) <= 90:\n",
    "            shifted_letter= (ord(i)-65 + (ord(changed_message[x])-65)) % 26\n",
    "            final_letter= chr(65+ shifted_letter)\n",
    "            final_message += final_letter\n",
    "        \n",
    "        x += 1\n",
    "    \n",
    "    return(final_message) \n"
   ]
  },
  {
   "cell_type": "code",
   "execution_count": 12,
   "id": "23e4e454",
   "metadata": {},
   "outputs": [
    {
     "data": {
      "text/plain": [
       "'WC WIQCEEO'"
      ]
     },
     "execution_count": 12,
     "metadata": {},
     "output_type": "execute_result"
    }
   ],
   "source": [
    "problem_3(\"MY MESSAGE\", \"KEY\")"
   ]
  },
  {
   "cell_type": "markdown",
   "id": "91b1a2a3",
   "metadata": {},
   "source": [
    "# Problem 4\n",
    "Scytale De-cipher (8 points)\n",
    "There is no brief for this number.\n",
    "\n",
    "Write a function called problem_4 that takes two positional arguments message and shift. It should decipher a message that is encoded in the scytale-style cipher from Problem 2 and return the decoded message.\n",
    "\n",
    "For your convenience:\n",
    "\n",
    "Do not trim the added underscores at the end of the message."
   ]
  },
  {
   "cell_type": "code",
   "execution_count": 14,
   "id": "25e56a2e",
   "metadata": {},
   "outputs": [],
   "source": [
    "def problem_4(encoded_message, number):\n",
    "    decoded_message= \"\"\n",
    "    \n",
    "    for i in range (0, len(encoded_message)):\n",
    "        position= (i // (len(encoded_message)//number)) + ((i % (len(encoded_message)//number)) * number)\n",
    "        letter= encoded_message[position]\n",
    "        decoded_message += letter\n",
    "                \n",
    "    return (decoded_message)\n",
    "    "
   ]
  },
  {
   "cell_type": "code",
   "execution_count": 15,
   "id": "7b9df461",
   "metadata": {},
   "outputs": [
    {
     "data": {
      "text/plain": [
       "'INFORMATION_AGE'"
      ]
     },
     "execution_count": 15,
     "metadata": {},
     "output_type": "execute_result"
    }
   ],
   "source": [
    "problem_4(\"IMNNA_FTAOIGROE\", 3)"
   ]
  },
  {
   "cell_type": "code",
   "execution_count": 5,
   "id": "4f74e129",
   "metadata": {},
   "outputs": [
    {
     "name": "stdout",
     "output_type": "stream",
     "text": [
      " \n"
     ]
    }
   ],
   "source": []
  },
  {
   "cell_type": "code",
   "execution_count": 53,
   "id": "e6a78e04",
   "metadata": {},
   "outputs": [
    {
     "name": "stdout",
     "output_type": "stream",
     "text": [
      " \n"
     ]
    }
   ],
   "source": [
    "print(chr(32))"
   ]
  },
  {
   "cell_type": "code",
   "execution_count": null,
   "id": "e0f01513",
   "metadata": {},
   "outputs": [],
   "source": []
  }
 ],
 "metadata": {
  "kernelspec": {
   "display_name": "Python 3",
   "language": "python",
   "name": "python3"
  },
  "language_info": {
   "codemirror_mode": {
    "name": "ipython",
    "version": 3
   },
   "file_extension": ".py",
   "mimetype": "text/x-python",
   "name": "python",
   "nbconvert_exporter": "python",
   "pygments_lexer": "ipython3",
   "version": "3.8.8"
  }
 },
 "nbformat": 4,
 "nbformat_minor": 5
}
