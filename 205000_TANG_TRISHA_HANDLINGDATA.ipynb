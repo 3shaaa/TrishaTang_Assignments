{
 "cells": [
  {
   "cell_type": "markdown",
   "id": "53223020",
   "metadata": {},
   "source": [
    "# Assignment: Handling Data\n",
    "This problem set aims to solidify your understanding of the first half of Module 4 (intermediate data types).\n",
    "\n",
    "Please follow all instructions precisely.\n",
    "\n",
    "Problem 1: Social Media Relationships (9 points)\n",
    "Let us pretend that you are building a new app. Your app supports social media functionality, which means that users can have relationships with other users.\n",
    "\n",
    "There are two guidelines for describing relationships on this social media app:\n",
    "\n",
    "Any user can follow any other user.\n",
    "If two users follow each other, they are considered friends.\n",
    "Data about your users and their followers is stored in a dictionary that adheres to this structur"
   ]
  },
  {
   "cell_type": "code",
   "execution_count": 1,
   "id": "9ccc05d9",
   "metadata": {},
   "outputs": [],
   "source": [
    "social_graph = {\n",
    "    \"@bongolpoc\":{\"first_name\":\"Joselito\",\n",
    "                  \"last_name\":\"Olpoc\",\n",
    "                  \"following\":[\n",
    "                  ]\n",
    "    },\n",
    "    \"@joaquin\":  {\"first_name\":\"Joaquin\",\n",
    "                  \"last_name\":\"Gonzales\",\n",
    "                  \"following\":[\n",
    "                      \"@chums\",\"@jobenilagan\"\n",
    "                  ]\n",
    "    },\n",
    "    \"@chums\" : {\"first_name\":\"Matthew\",\n",
    "                \"last_name\":\"Uy\",\n",
    "                \"following\":[\n",
    "                    \"@bongolpoc\",\"@miketan\",\"@rudyang\",\"@joeilagan\"\n",
    "                ]\n",
    "    },\n",
    "    \"@jobenilagan\":{\"first_name\":\"Joben\",\n",
    "                   \"last_name\":\"Ilagan\",\n",
    "                   \"following\":[\n",
    "                    \"@eeebeee\",\"@joeilagan\",\"@chums\",\"@joaquin\"\n",
    "                   ]\n",
    "    },\n",
    "    \"@joeilagan\":{\"first_name\":\"Joe\",\n",
    "                  \"last_name\":\"Ilagan\",\n",
    "                  \"following\":[\n",
    "                    \"@eeebeee\",\"@jobenilagan\",\"@chums\"\n",
    "                  ]\n",
    "    },\n",
    "    \"@eeebeee\":  {\"first_name\":\"Elizabeth\",\n",
    "                  \"last_name\":\"Ilagan\",\n",
    "                  \"following\":[\n",
    "                    \"@jobenilagan\",\"@joeilagan\"\n",
    "                  ]\n",
    "    },\n",
    "}\n",
    "\n",
    "\n",
    "def relationship_status(from_member, to_member, social_graph):\n",
    "    Follower= \"TBA\"\n",
    "    Followed_By=\"TBA\"\n",
    "    Status=\"\"  \n",
    "    \n",
    "    for i in social_graph[from_member][\"following\"]:\n",
    "        if i ==to_member:\n",
    "            Follower=\"Yes\"\n",
    "        #check if followed:\n",
    "       \n",
    "    for j in social_graph[to_member][\"following\"]:\n",
    "        if j == from_member:\n",
    "            Followed_By= \"Yes\"\n",
    "        \n",
    "    if Follower== \"Yes\"and Followed_By== \"Yes\":\n",
    "        status=\"friends\"\n",
    "    elif Follower== \"Yes\" and Followed_By == \"TBA\":\n",
    "        status=\"follower\"\n",
    "    elif Followed_By== \"Yes\" and Follower== \"TBA\":\n",
    "        status=\"followed by\"\n",
    "    else:\n",
    "        status= None \n",
    "    \n",
    "    return status\n",
    "            "
   ]
  },
  {
   "cell_type": "code",
   "execution_count": 2,
   "id": "ec37c3fd",
   "metadata": {},
   "outputs": [
    {
     "data": {
      "text/plain": [
       "'friends'"
      ]
     },
     "execution_count": 2,
     "metadata": {},
     "output_type": "execute_result"
    }
   ],
   "source": [
    "relationship_status(\"@joeilagan\", \"@jobenilagan\", social_graph)"
   ]
  },
  {
   "cell_type": "markdown",
   "id": "e4c77252",
   "metadata": {},
   "source": [
    "# Problem 2: Tic Tac Toe (10 points)\n",
    "Tic Tac Toe is a common paper-and-pencil game. Players must attempt to successfully draw a straight line of their symbol across a grid. The player that does this first is considered the winner.\n",
    "\n",
    "Here are several possible board configurations:"
   ]
  },
  {
   "cell_type": "code",
   "execution_count": 49,
   "id": "d2f9b668",
   "metadata": {},
   "outputs": [],
   "source": [
    "# NON-INTERACTIVE CODE CELL. YOU MAY RUN THIS CELL, BUT DO NOT EDIT IT.\n",
    "# FOR DEMONSTRATION PURPOSES ONLY. DO NOT EDIT.\n",
    "\n",
    "board1 = [\n",
    "['X','X','O'],\n",
    "['O','X','O'],\n",
    "['O','','X'],\n",
    "]\n",
    "\n",
    "board2 = [\n",
    "['X','X','O'],\n",
    "['O','X','O'],\n",
    "['','O','X'],\n",
    "]\n",
    "\n",
    "board3 = [\n",
    "['O','X','O'],\n",
    "['','O','X'],\n",
    "['X','X','O'],\n",
    "]\n",
    "\n",
    "board4 = [\n",
    "['X','X','X'],\n",
    "['O','X','O'],\n",
    "['O','','O'],\n",
    "]\n",
    "\n",
    "board5 = [\n",
    "['X','X','O'],\n",
    "['O','X','O'],\n",
    "['X','','O'],\n",
    "]\n",
    "\n",
    "board6 = [\n",
    "['X','X','O'],\n",
    "['O','X','O'],\n",
    "['X','',''],\n",
    "]"
   ]
  },
  {
   "cell_type": "code",
   "execution_count": 56,
   "id": "f22d5274",
   "metadata": {},
   "outputs": [],
   "source": [
    "def tic_tac_toe(board):\n",
    "\n",
    "\n",
    "\n",
    "    for i in range(len(board)):\n",
    "        if len(set(board[i])) == 1:\n",
    "            if board[i][0] == \"O\":\n",
    "                return \"O\"\n",
    "            else:\n",
    "                return \"X\"\n",
    "        elif all(k == \"O\" for k in ([board[i][i] for i, v in enumerate(board)])):\n",
    "            return \"O\"\n",
    "        elif all(k == \"X\" for k in ([board[i][i] for i, v in enumerate(board)])):\n",
    "            return \"X\"\n",
    "        elif all(k == \"O\" for k in ([board[((len(board))-1)-i][i] for i, v in enumerate(board)])):\n",
    "            return \"O\"\n",
    "        elif all(k == \"X\" for k in ([board[((len(board))-1)-i][i] for i, v in enumerate(board)])):\n",
    "            return \"X\"\n",
    "    \n",
    "    for j in zip(*board):\n",
    "        if len(set(j)) == 1:\n",
    "            if list(j)[0] == \"O\":\n",
    "                return \"O\" \n",
    "            elif list(j)[0] == \"X\":\n",
    "                return \"X\"\n",
    "     \n",
    "            else:\n",
    "                return None\n",
    "\n",
    "\n",
    "\n"
   ]
  },
  {
   "cell_type": "code",
   "execution_count": 60,
   "id": "cfb692b8",
   "metadata": {},
   "outputs": [
    {
     "data": {
      "text/plain": [
       "'O'"
      ]
     },
     "execution_count": 60,
     "metadata": {},
     "output_type": "execute_result"
    }
   ],
   "source": [
    "tic_tac_toe(board3)"
   ]
  },
  {
   "cell_type": "markdown",
   "id": "8d90f752",
   "metadata": {},
   "source": [
    "# Problem 3: Routing (9 points)\n",
    "During the pandemic, a shuttle van service is tasked to travel along a predefined circular route as follows:\n",
    "\n",
    "*UP Diliman -> Ateneo de Manila (Estimated Time: 10 mins)\n",
    "\n",
    "*Ateneo de Manila -> De La Salle Taft (Estimated Time: 35 mins)\n",
    "\n",
    "*De La Salle Taft -> UP Diliman (Estimated Time: 55 mins)\n",
    "\n",
    "The route is one-way only. So, the van cannot go back directly to UP Diliman from Ateneo de Manila; rather, it will have to drop by De La Salle Taft first before going to UP Diliman.\n",
    "\n",
    "Write a function called eta that takes three positional arguments: (dict) legs, (str) source, and (str) destination. The function should return the estimated number of minutes it will take to reach the destination from the source based on the data stored in the legs dictionary.\n",
    "\n",
    "Specifications:\n",
    "\n",
    "1.The legs dictionary adheres to the schema followed in the demo cell.\n",
    "\n",
    "2.There may be more legs than shown in the demo cell.\n",
    "\n",
    "3.Any destination can be reached from any source."
   ]
  },
  {
   "cell_type": "code",
   "execution_count": 39,
   "id": "746c480f",
   "metadata": {},
   "outputs": [],
   "source": [
    "legs = {\n",
    "     (\"upd\",\"admu\"):{\n",
    "         \"travel_time_mins\":10\n",
    "     },\n",
    "     (\"admu\",\"dlsu\"):{\n",
    "         \"travel_time_mins\":35\n",
    "     },\n",
    "     (\"dlsu\",\"upd\"):{\n",
    "         \"travel_time_mins\":55\n",
    "     }\n",
    "}\n",
    "\n",
    "def eta(legs,source,destination):\n",
    "    \n",
    "    current_location= source\n",
    "    total_minutes=0\n",
    "    \n",
    "\n",
    "    while current_location != destination:\n",
    "        for i in legs.keys():\n",
    "            if i[0] == current_location:\n",
    "                total_minutes += legs[i][\"travel_time_mins\"]\n",
    "                current_location = i[1]\n",
    "            if current_location == destination:\n",
    "                break\n",
    "  \n",
    "                \n",
    "    return total_minutes\n",
    "    \n",
    "    "
   ]
  },
  {
   "cell_type": "code",
   "execution_count": 38,
   "id": "902c2a64",
   "metadata": {},
   "outputs": [
    {
     "data": {
      "text/plain": [
       "35"
      ]
     },
     "execution_count": 38,
     "metadata": {},
     "output_type": "execute_result"
    }
   ],
   "source": [
    "eta(legs,\"admu\",\"dlsu\")"
   ]
  },
  {
   "cell_type": "code",
   "execution_count": null,
   "id": "095b6aa4",
   "metadata": {},
   "outputs": [],
   "source": []
  }
 ],
 "metadata": {
  "kernelspec": {
   "display_name": "Python 3",
   "language": "python",
   "name": "python3"
  },
  "language_info": {
   "codemirror_mode": {
    "name": "ipython",
    "version": 3
   },
   "file_extension": ".py",
   "mimetype": "text/x-python",
   "name": "python",
   "nbconvert_exporter": "python",
   "pygments_lexer": "ipython3",
   "version": "3.8.8"
  }
 },
 "nbformat": 4,
 "nbformat_minor": 5
}
