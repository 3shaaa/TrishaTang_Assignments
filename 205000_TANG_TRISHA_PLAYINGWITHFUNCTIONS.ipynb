{
 "cells": [
  {
   "cell_type": "markdown",
   "id": "6323831e",
   "metadata": {},
   "source": [
    "# Assignment: Playing with Functions\n",
    "\n",
    "This problem set aims to serve as a stepping stone from basic Python to intermediate Python."
   ]
  },
  {
   "cell_type": "markdown",
   "id": "f877cb13",
   "metadata": {},
   "source": [
    "# Problem#1\n",
    "\n",
    "Factorial (1 point)\n",
    "\n",
    "The factorial of a number is the product of that number and all the numbers below it. For example, 5 factorial (denoted 5! in math) is 5 4 3 2 1, which is 120.\n",
    "\n",
    "Write a function called problem_1 that takes one positional argument number. The function should return the factorial of number as an integer.\n",
    "\n",
    "Example input/output:\n",
    "\n",
    "problem_1(5) => 120\n",
    "\n",
    "problem_1(10) => 3628800"
   ]
  },
  {
   "cell_type": "code",
   "execution_count": 15,
   "id": "1caa0270",
   "metadata": {},
   "outputs": [],
   "source": [
    "def problem_1(number):\n",
    "    multiply=1\n",
    "    for i in range (1,int(number+1)):\n",
    "        multiply= i*int(multiply)\n",
    "    \n",
    "    return multiply"
   ]
  },
  {
   "cell_type": "code",
   "execution_count": 18,
   "id": "da6bc94f",
   "metadata": {},
   "outputs": [
    {
     "data": {
      "text/plain": [
       "3628800"
      ]
     },
     "execution_count": 18,
     "metadata": {},
     "output_type": "execute_result"
    }
   ],
   "source": [
    "problem_1(10)"
   ]
  },
  {
   "cell_type": "markdown",
   "id": "7b3d6405",
   "metadata": {},
   "source": [
    "# Problem#2\n",
    "\n",
    "Number Guessing Game (2 points)\n",
    "Recall that we use input() to ask for user input.\n",
    "\n",
    "Write a function called problem_2 that takes one positional argument passphrase. The function should ask the user to enter the passphrase with input(). If the user enters the correct passphrase, the function should return the integer 1. If the user enters the wrong passphrase, the function should keep asking them for the passphrase. If the user gets the passphrase wrong 3 times, the function should return the integer 0.\n",
    "\n",
    "Example input/output:\n",
    "\n",
    "Function input:\n",
    "\n",
    "problem_2(\"chums\")\n",
    "\n",
    "Simulated user input:\n",
    "\n",
    "joben\n",
    "\n",
    "chums\n",
    "\n",
    "Output:\n",
    "\n",
    "1\n",
    "\n",
    "Function input:\n",
    "\n",
    "problem_2(\"annika\")\n",
    "\n",
    "Simulated user input:\n",
    "\n",
    "joe\n",
    "\n",
    "earl\n",
    "\n",
    "niks\n",
    "\n",
    "Output:\n",
    "\n",
    "0"
   ]
  },
  {
   "cell_type": "code",
   "execution_count": 73,
   "id": "2776d05e",
   "metadata": {},
   "outputs": [],
   "source": [
    "def problem_2(passphrase):\n",
    "    \n",
    "    integer_wrong=0 \n",
    "    while integer_wrong < 3:\n",
    "        confirm_passphrase=input(\"Please enter passphrase:\")\n",
    "        \n",
    "        if passphrase == confirm_passphrase:\n",
    "            integer_correct= 1\n",
    "            return integer_correct\n",
    "            break\n",
    "        else:\n",
    "            integer_wrong += 1 \n",
    "    return(0)"
   ]
  },
  {
   "cell_type": "code",
   "execution_count": 75,
   "id": "24cb77c4",
   "metadata": {},
   "outputs": [
    {
     "name": "stdout",
     "output_type": "stream",
     "text": [
      "Please enter passphrase:lol\n",
      "Please enter passphrase:Trisha\n"
     ]
    },
    {
     "data": {
      "text/plain": [
       "1"
      ]
     },
     "execution_count": 75,
     "metadata": {},
     "output_type": "execute_result"
    }
   ],
   "source": [
    "problem_2(\"Trisha\")"
   ]
  },
  {
   "cell_type": "markdown",
   "id": "76282113",
   "metadata": {},
   "source": [
    "# Problem 3¶\n",
    "\n",
    "Temperature Converter (3 points)\n",
    "A common beginner's exercise is to write a function that can convert a temperature value from one format, such as Fahrenheit, to another, such as Celsius.\n",
    "\n",
    "In this problem, extend this idea to convert temperatures freely to and from any of the following formats: Celsius, Fahrenheit, and Kelvin.\n",
    "\n",
    "Write a function called problem_3 that takes three positional arguments: (float) temp, (string) original_format, (string) new_format. The function should convert temp, which is represented in original_format, to its equivalent value in the new_format.\n",
    "\n",
    "Example input/output:\n",
    "\n",
    "problem_3(0.0, \"Celsius\", \"Fahrenheit\") => 32.0\n",
    "\n",
    "problem_3(500.0, \"Kelvin\", \"Fahrenheit\") => 440.33\n",
    "\n",
    "problem_3(273.0, \"Kelvin\", \"Celsius\") => 0.0\n",
    "\n",
    "For your convenience:\n",
    "\n",
    "The accuracy of your float outputs will only be evaluated to within 2 decimal places. (In other words: don't worry too much about getting the calculation exactly right.)"
   ]
  },
  {
   "cell_type": "code",
   "execution_count": 136,
   "id": "f9035902",
   "metadata": {},
   "outputs": [],
   "source": [
    "def problem_3(temp, original_format, new_format):\n",
    "\n",
    "    if original_format == \"Celsius\" and new_format == \"Kelvin\":\n",
    "        new_temp= (int(temp))+273.15\n",
    "        return new_temp\n",
    "    elif original_format == \"Kelvin\" and new_format == \"Celsius\":\n",
    "        new_temp= (int(temp))-273.15\n",
    "        return new_temp\n",
    "    elif original_format == \"Kelvin\" and new_format == \"Fahrenheit\":\n",
    "        new_temp= ((int(temp))-273.15)*9/5+32\n",
    "        return new_temp\n",
    "    elif original_format == \"Fahrenheit\" and new_format == \"Kelvin\":\n",
    "        new_temp= ((int(temp))-32)*5/9+273.15\n",
    "        return new_temp\n",
    "    elif original_format == \"Celsius\"  and new_format == \"Fahrenheit\":\n",
    "        new_temp= ((int(temp))*(9/5))+32\n",
    "        return new_temp\n",
    "    elif original_format == \"Fahrenheit\" and new_format == \"Celsius\":\n",
    "        new_temp= ((int(temp))-32)*5/9\n",
    "        return new_temp"
   ]
  },
  {
   "cell_type": "code",
   "execution_count": 137,
   "id": "5af4f0cc",
   "metadata": {},
   "outputs": [
    {
     "data": {
      "text/plain": [
       "-16.666666666666668"
      ]
     },
     "execution_count": 137,
     "metadata": {},
     "output_type": "execute_result"
    }
   ],
   "source": [
    "problem_3(\"2\", \"Fahrenheit\", \"Celsius\")"
   ]
  },
  {
   "cell_type": "markdown",
   "id": "c2235d67",
   "metadata": {},
   "source": [
    "# Problem 4¶\n",
    "\n",
    "Exact Change (4 points)\n",
    "Part of a cashier's job is to give exact change to customers. It can be difficult to mentally tally how many coins of each type (i.e., 1 peso, 25 centavos, 10 centavos, etc.) to give to a customer.\n",
    "\n",
    "Write a function called problem_4 that takes 1 positional argument amount in centavos. The function should return a string that describes the appropriate amounts of each type of coin to give to the customer. The string should be formatted as follows:\n",
    "\n",
    "\"1P:{num}/25C:{num}/10C:{num}/5C:{num}/1C:{num}\"\n",
    "\n",
    "Use the fewest number of total coins possible.\n",
    "\n",
    "Example input/output:\n",
    "\n",
    "problem_4(105) => \"1P:1/25C:0/10C:0/5C:1/1C:0\"\n",
    "\n",
    "problem_4(69) => \"1P:0/25C:2/10C:1/5C:1/1C:4\""
   ]
  },
  {
   "cell_type": "code",
   "execution_count": 13,
   "id": "551d00c5",
   "metadata": {},
   "outputs": [],
   "source": [
    "def problem_4(amount):\n",
    "    \n",
    "    One_P = 0\n",
    "    TwentyFive_C= 0\n",
    "    Ten_C = 0\n",
    "    Five_C = 0\n",
    "    One_C = 0\n",
    "    \n",
    "    if (int(amount))//100 > 0:\n",
    "        Floor_div= int(amount)//100 \n",
    "        New_amount= int(amount) - int(Floor_div*100)\n",
    "        One_P += Floor_div\n",
    "    else: \n",
    "        New_amount=amount\n",
    "    if (int(New_amount))//25 > 0:\n",
    "        Floor_div= int(New_amount)//25\n",
    "        New_amount= int(New_amount)- int(Floor_div*25)\n",
    "        TwentyFive_C += Floor_div\n",
    "    if (int(New_amount))//10 >0:\n",
    "        Floor_div= int(New_amount)//10\n",
    "        New_amount= int(New_amount)- int(Floor_div*10)\n",
    "        Ten_C += Floor_div\n",
    "    if (int(New_amount))//5 > 0:\n",
    "        Floor_div= int(New_amount)//5\n",
    "        New_amount= int(New_amount)-int(Floor_div*5)\n",
    "        Five_C += Floor_div\n",
    "    if (int(New_amount))//1 > 0:\n",
    "        Floor_div= int(New_amount)//1\n",
    "        New_amount= int(New_amount)-int(Floor_div*1)\n",
    "        One_C += Floor_div\n",
    "        \n",
    "    return (f\"1P:{One_P}/25C:{TwentyFive_C}/10C:{Ten_C}/5C:{Five_C}/1C:{One_C}\")\n",
    "        "
   ]
  },
  {
   "cell_type": "code",
   "execution_count": 14,
   "id": "9d6bec3c",
   "metadata": {},
   "outputs": [
    {
     "data": {
      "text/plain": [
       "'1P:0/25C:2/10C:1/5C:1/1C:1'"
      ]
     },
     "execution_count": 14,
     "metadata": {},
     "output_type": "execute_result"
    }
   ],
   "source": [
    "problem_4(\"66\")"
   ]
  },
  {
   "cell_type": "markdown",
   "id": "16f41f94",
   "metadata": {},
   "source": [
    "# Problem 5¶\n",
    "\n",
    "Invert Capitalization (3 points)\n",
    "Write a function called problem_5 that takes 1 positional argument (string) message. The function should return a string whose uppercase letters are now lowercase and whose lowercase letters are now uppercase. Spaces should be left alone.\n",
    "\n",
    "Example input/output:\n",
    "problem_5(\"Test Me\") => \"tEST mE\"\n",
    "problem_5(\"asSiGnmENt\") => \"ASsIgNMenT\"\n",
    "\n",
    "For your convenience:\n",
    "\n",
    "The message will only ever consist of spaces, lowercase letters, and uppercase letters.\n",
    "\n",
    "Hint: Research on ord() and chr()."
   ]
  },
  {
   "cell_type": "code",
   "execution_count": 264,
   "id": "2dbeb4e5",
   "metadata": {},
   "outputs": [],
   "source": [
    "def problem_5(chosen_word):\n",
    "    new_chosen_word=\"\"\n",
    "    for i in chosen_word:\n",
    "        if ord(i)>= 65 and ord(i)<= 90:\n",
    "            new_chosen_letter=(chr(ord(i)+32))\n",
    "            new_chosen_word += new_chosen_letter\n",
    "        elif ord(i)>= 97 and ord(i)<= 122:\n",
    "            new_chosen_letter=(chr(ord(i)-32))\n",
    "            new_chosen_word += new_chosen_letter\n",
    "        else:\n",
    "            new_chosen_word += i\n",
    "    return (new_chosen_word)"
   ]
  },
  {
   "cell_type": "code",
   "execution_count": 268,
   "id": "ca77e99b",
   "metadata": {},
   "outputs": [
    {
     "data": {
      "text/plain": [
       "'lol hEh'"
      ]
     },
     "execution_count": 268,
     "metadata": {},
     "output_type": "execute_result"
    }
   ],
   "source": [
    "problem_5(\"LOL HeH\")"
   ]
  },
  {
   "cell_type": "code",
   "execution_count": null,
   "id": "ea5f33f2",
   "metadata": {},
   "outputs": [],
   "source": []
  },
  {
   "cell_type": "code",
   "execution_count": null,
   "id": "1826539c",
   "metadata": {},
   "outputs": [],
   "source": []
  },
  {
   "cell_type": "code",
   "execution_count": null,
   "id": "a18fd867",
   "metadata": {},
   "outputs": [],
   "source": []
  }
 ],
 "metadata": {
  "kernelspec": {
   "display_name": "Python 3",
   "language": "python",
   "name": "python3"
  },
  "language_info": {
   "codemirror_mode": {
    "name": "ipython",
    "version": 3
   },
   "file_extension": ".py",
   "mimetype": "text/x-python",
   "name": "python",
   "nbconvert_exporter": "python",
   "pygments_lexer": "ipython3",
   "version": "3.8.8"
  }
 },
 "nbformat": 4,
 "nbformat_minor": 5
}
